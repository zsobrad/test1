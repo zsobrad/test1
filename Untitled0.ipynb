{
  "nbformat": 4,
  "nbformat_minor": 0,
  "metadata": {
    "colab": {
      "provenance": []
    },
    "kernelspec": {
      "name": "python3",
      "display_name": "Python 3"
    },
    "language_info": {
      "name": "python"
    }
  },
  "cells": [
    {
      "cell_type": "code",
      "execution_count": null,
      "metadata": {
        "id": "4z7VOJau8OOk"
      },
      "outputs": [],
      "source": [
        "import yfinance as yf\n",
        "import pandas as pd\n",
        "import matplotlib.pyplot as plt\n",
        "\n",
        "def fetch_data(tickers, start_date, end_date):\n",
        "    data = yf.download(tickers, start=start_date, end=end_date)\n",
        "    return data['Adj Close']\n",
        "\n",
        "tickers = ['^VIX', 'SPY']\n",
        "start_date = '2020-01-01'\n",
        "end_date = '2023-12-31'\n",
        "data = fetch_data(tickers, start_date, end_date)\n",
        "\n",
        "def calculate_returns(data):\n",
        "    returns = data.pct_change().dropna()\n",
        "    return returns\n",
        "\n",
        "\n",
        "returns = calculate_returns(data)\n",
        "\n",
        "def plot_price_data(data):\n",
        "    plt.figure(figsize=(14, 7))\n",
        "    plt.plot(data.index, data['SPY'], label='SPY')\n",
        "    plt.plot(data.index, data['^VIX'], label='VIX')\n",
        "    plt.title('SPY and VIX Prices')\n",
        "    plt.xlabel('Date')\n",
        "    plt.ylabel('Price')\n",
        "    plt.legend()\n",
        "    plt.grid(True)\n",
        "    plt.show()\n",
        "\n",
        "plot_price_data(data)\n",
        "\n",
        "def plot_returns(returns):\n",
        "    plt.figure(figsize=(14, 7))\n",
        "    plt.plot(returns.index, returns['SPY'], label='SPY')\n",
        "    plt.plot(returns.index, returns['^VIX'], label='VIX')\n",
        "    plt.title('SPY and VIX Daily Returns')\n",
        "    plt.xlabel('Date')\n",
        "    plt.ylabel('Daily Returns')\n",
        "    plt.legend()\n",
        "    plt.grid(True)\n",
        "    plt.show()\n",
        "\n",
        "plot_returns(returns)\n",
        "\n",
        "def plot_correlation(returns):\n",
        "    correlation = returns.corr()\n",
        "    print(\"Correlation between SPY and VIX daily returns:\\n\", correlation)\n",
        "    plt.figure(figsize=(6, 5))\n",
        "    plt.matshow(correlation, cmap='coolwarm', fignum=1)\n",
        "    plt.colorbar()\n",
        "    plt.xticks(range(len(correlation.columns)), correlation.columns, rotation=90)\n",
        "    plt.yticks(range(len(correlation.columns)), correlation.columns)\n",
        "    plt.title('Correlation Matrix')\n",
        "    plt.show()\n",
        "\n",
        "plot_correlation(returns)\n",
        "\n",
        "## SPY and VIX Prices\n",
        "The following plot shows the adjusted closing prices of SPY and VIX from 2020 to 2023.\n",
        "\n"
      ]
    }
  ]
}